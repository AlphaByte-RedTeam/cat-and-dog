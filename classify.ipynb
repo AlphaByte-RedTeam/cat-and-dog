{
 "cells": [
  {
   "cell_type": "code",
   "execution_count": 18,
   "metadata": {},
   "outputs": [],
   "source": [
    "import os # for accessing the file system\n",
    "from itertools import product # for efficient looping process\n",
    "\n",
    "import pandas as pd # for data analysis\n",
    "import numpy as np # for linear algebra\n",
    "\n",
    "# for image processing\n",
    "import PIL\n",
    "from PIL import Image\n",
    "\n",
    "# for deep learning process\n",
    "import tensorflow as tf\n",
    "from keras.preprocessing import image\n",
    "from keras.utils import image_dataset_from_directory"
   ]
  },
  {
   "cell_type": "markdown",
   "metadata": {},
   "source": [
    "# Find the count of the files in the datasets directory"
   ]
  },
  {
   "cell_type": "code",
   "execution_count": 19,
   "metadata": {},
   "outputs": [
    {
     "name": "stdout",
     "output_type": "stream",
     "text": [
      "Total images found: 10028 files belonging\n"
     ]
    }
   ],
   "source": [
    "set_list = ['test_set', 'training_set']\n",
    "cats_dogs = ['cats', 'dogs']\n",
    "folderpath = [os.path.abspath(f'datasets/{sets}/{animals}') for sets, animals in product(set_list, cats_dogs)]\n",
    "\n",
    "count = sum(len(os.listdir(folderpath[i])) for i in range(len(folderpath)))\n",
    "print(f\"Total images found: {count} files belonging\")"
   ]
  },
  {
   "cell_type": "code",
   "execution_count": 20,
   "metadata": {},
   "outputs": [
    {
     "name": "stdout",
     "output_type": "stream",
     "text": [
      "Found 8005 files belonging to 2 classes.\n",
      "Found 2023 files belonging to 2 classes.\n",
      "<BatchDataset element_spec=(TensorSpec(shape=(None, 64, 64, 3), dtype=tf.float32, name=None), TensorSpec(shape=(None, 1), dtype=tf.float32, name=None))> <BatchDataset element_spec=(TensorSpec(shape=(None, 64, 64, 3), dtype=tf.float32, name=None), TensorSpec(shape=(None, 1), dtype=tf.float32, name=None))>\n"
     ]
    }
   ],
   "source": [
    "train_ds = image_dataset_from_directory('datasets/training_set', labels='inferred', label_mode='binary', color_mode='rgb', batch_size=32, image_size=(64, 64), interpolation='bilinear')\n",
    "test_ds = image_dataset_from_directory('datasets/test_set', labels='inferred', label_mode='binary', color_mode='rgb', batch_size=32, image_size=(64, 64), interpolation='bilinear')\n",
    "print(train_ds, test_ds)"
   ]
  }
 ],
 "metadata": {
  "kernelspec": {
   "display_name": "Python 3.10.5 64-bit",
   "language": "python",
   "name": "python3"
  },
  "language_info": {
   "codemirror_mode": {
    "name": "ipython",
    "version": 3
   },
   "file_extension": ".py",
   "mimetype": "text/x-python",
   "name": "python",
   "nbconvert_exporter": "python",
   "pygments_lexer": "ipython3",
   "version": "3.10.5"
  },
  "orig_nbformat": 4,
  "vscode": {
   "interpreter": {
    "hash": "369f2c481f4da34e4445cda3fffd2e751bd1c4d706f27375911949ba6bb62e1c"
   }
  }
 },
 "nbformat": 4,
 "nbformat_minor": 2
}
