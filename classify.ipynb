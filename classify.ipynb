{
 "cells": [
  {
   "cell_type": "code",
   "execution_count": 1,
   "metadata": {},
   "outputs": [],
   "source": [
    "import os # for accessing the file system\n",
    "from itertools import product # for efficient looping process\n",
    "\n",
    "import pandas as pd # for data analysis\n",
    "\n",
    "# for deep learning process\n",
    "import tensorflow as tf\n",
    "from keras.preprocessing import image\n",
    "from keras.preprocessing.image import ImageDataGenerator"
   ]
  },
  {
   "cell_type": "markdown",
   "metadata": {},
   "source": [
    "# Find the count of the files in the datasets directory"
   ]
  },
  {
   "cell_type": "code",
   "execution_count": 59,
   "metadata": {},
   "outputs": [
    {
     "name": "stdout",
     "output_type": "stream",
     "text": [
      "Total images found: 10028 files\n"
     ]
    }
   ],
   "source": [
    "set_list = ['test_set', 'training_set']\n",
    "cats_dogs = ['cats', 'dogs']\n",
    "folderpath = [os.path.abspath(f'datasets/{sets}/{animals}') for sets, animals in product(set_list, cats_dogs)]\n",
    "\n",
    "count = sum(len(os.listdir(folderpath[i])) for i in range(len(folderpath)))\n",
    "print(f\"Total images found: {count} files\")"
   ]
  }
 ],
 "metadata": {
  "kernelspec": {
   "display_name": "Python 3.10.5 64-bit",
   "language": "python",
   "name": "python3"
  },
  "language_info": {
   "codemirror_mode": {
    "name": "ipython",
    "version": 3
   },
   "file_extension": ".py",
   "mimetype": "text/x-python",
   "name": "python",
   "nbconvert_exporter": "python",
   "pygments_lexer": "ipython3",
   "version": "3.10.5"
  },
  "orig_nbformat": 4,
  "vscode": {
   "interpreter": {
    "hash": "369f2c481f4da34e4445cda3fffd2e751bd1c4d706f27375911949ba6bb62e1c"
   }
  }
 },
 "nbformat": 4,
 "nbformat_minor": 2
}
